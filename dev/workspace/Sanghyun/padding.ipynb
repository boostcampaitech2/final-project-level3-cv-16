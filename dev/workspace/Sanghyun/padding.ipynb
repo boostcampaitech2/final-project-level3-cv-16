{
 "cells": [
  {
   "cell_type": "code",
   "execution_count": 1,
   "metadata": {},
   "outputs": [],
   "source": [
    "import json\n",
    "import time\n",
    "\n",
    "import numpy as np\n",
    "import pandas as pd\n",
    "import PIL\n",
    "import matplotlib.pyplot as plt\n",
    "\n",
    "import albumentations as A\n",
    "import cv2"
   ]
  },
  {
   "cell_type": "code",
   "execution_count": 2,
   "metadata": {},
   "outputs": [
    {
     "data": {
      "text/plain": [
       "dict_keys(['licenses', 'images', 'annotations', 'categories'])"
      ]
     },
     "execution_count": 2,
     "metadata": {},
     "output_type": "execute_result"
    }
   ],
   "source": [
    "dataset = \"test\"\n",
    "data_root = \"/home/davi/workspace/data/piedata(1008)/pie/annotations/\"\n",
    "data_json = data_root + f\"instancesPie(1008)_{dataset}2019.json\"\n",
    "with open(data_json, \"r\") as f:\n",
    "    test_json = json.load(f)\n",
    "test_json.keys()"
   ]
  },
  {
   "cell_type": "code",
   "execution_count": 3,
   "metadata": {},
   "outputs": [
    {
     "data": {
      "text/html": [
       "<div>\n",
       "<style scoped>\n",
       "    .dataframe tbody tr th:only-of-type {\n",
       "        vertical-align: middle;\n",
       "    }\n",
       "\n",
       "    .dataframe tbody tr th {\n",
       "        vertical-align: top;\n",
       "    }\n",
       "\n",
       "    .dataframe thead th {\n",
       "        text-align: right;\n",
       "    }\n",
       "</style>\n",
       "<table border=\"1\" class=\"dataframe\">\n",
       "  <thead>\n",
       "    <tr style=\"text-align: right;\">\n",
       "      <th></th>\n",
       "      <th>file_name</th>\n",
       "      <th>height</th>\n",
       "      <th>width</th>\n",
       "      <th>id</th>\n",
       "    </tr>\n",
       "  </thead>\n",
       "  <tbody>\n",
       "    <tr>\n",
       "      <th>0</th>\n",
       "      <td>f447ffede2ef85e73a191f8c1ed3f9df_c3RhdGxpbmtzL...</td>\n",
       "      <td>273</td>\n",
       "      <td>331</td>\n",
       "      <td>73075</td>\n",
       "    </tr>\n",
       "    <tr>\n",
       "      <th>1</th>\n",
       "      <td>f447ffede2ef85e73a191f8c1ed3f9df_c3RhdGxpbmtzL...</td>\n",
       "      <td>273</td>\n",
       "      <td>303</td>\n",
       "      <td>73076</td>\n",
       "    </tr>\n",
       "    <tr>\n",
       "      <th>2</th>\n",
       "      <td>f449d055d0020a85e6991e21e4b8e2df_d3d3LnphcG9wY...</td>\n",
       "      <td>331</td>\n",
       "      <td>535</td>\n",
       "      <td>73077</td>\n",
       "    </tr>\n",
       "    <tr>\n",
       "      <th>3</th>\n",
       "      <td>f449d8f2044f441270110f1a3774ff04_d3d3LnNoaXJ1c...</td>\n",
       "      <td>376</td>\n",
       "      <td>737</td>\n",
       "      <td>73078</td>\n",
       "    </tr>\n",
       "    <tr>\n",
       "      <th>4</th>\n",
       "      <td>f44a875dc618aacc6fc8a09105a2b163_bWFpbC50ZGItZ...</td>\n",
       "      <td>342</td>\n",
       "      <td>347</td>\n",
       "      <td>73079</td>\n",
       "    </tr>\n",
       "  </tbody>\n",
       "</table>\n",
       "</div>"
      ],
      "text/plain": [
       "                                           file_name  height  width     id\n",
       "0  f447ffede2ef85e73a191f8c1ed3f9df_c3RhdGxpbmtzL...     273    331  73075\n",
       "1  f447ffede2ef85e73a191f8c1ed3f9df_c3RhdGxpbmtzL...     273    303  73076\n",
       "2  f449d055d0020a85e6991e21e4b8e2df_d3d3LnphcG9wY...     331    535  73077\n",
       "3  f449d8f2044f441270110f1a3774ff04_d3d3LnNoaXJ1c...     376    737  73078\n",
       "4  f44a875dc618aacc6fc8a09105a2b163_bWFpbC50ZGItZ...     342    347  73079"
      ]
     },
     "execution_count": 3,
     "metadata": {},
     "output_type": "execute_result"
    }
   ],
   "source": [
    "df_images = pd.DataFrame(test_json[\"images\"])\n",
    "df_images.head()"
   ]
  },
  {
   "cell_type": "code",
   "execution_count": 4,
   "metadata": {},
   "outputs": [
    {
     "data": {
      "text/html": [
       "<div>\n",
       "<style scoped>\n",
       "    .dataframe tbody tr th:only-of-type {\n",
       "        vertical-align: middle;\n",
       "    }\n",
       "\n",
       "    .dataframe tbody tr th {\n",
       "        vertical-align: top;\n",
       "    }\n",
       "\n",
       "    .dataframe thead th {\n",
       "        text-align: right;\n",
       "    }\n",
       "</style>\n",
       "<table border=\"1\" class=\"dataframe\">\n",
       "  <thead>\n",
       "    <tr style=\"text-align: right;\">\n",
       "      <th></th>\n",
       "      <th>image_id</th>\n",
       "      <th>category_id</th>\n",
       "      <th>bbox</th>\n",
       "      <th>area</th>\n",
       "      <th>id</th>\n",
       "    </tr>\n",
       "  </thead>\n",
       "  <tbody>\n",
       "    <tr>\n",
       "      <th>0</th>\n",
       "      <td>73075</td>\n",
       "      <td>0</td>\n",
       "      <td>[191.0, 32.0, 285.0, 184.0, 191.0, 137.0]</td>\n",
       "      <td>11225.039932</td>\n",
       "      <td>422950</td>\n",
       "    </tr>\n",
       "    <tr>\n",
       "      <th>1</th>\n",
       "      <td>73075</td>\n",
       "      <td>0</td>\n",
       "      <td>[285.0, 184.0, 223.0, 237.0, 191.0, 137.0]</td>\n",
       "      <td>4399.705457</td>\n",
       "      <td>422951</td>\n",
       "    </tr>\n",
       "    <tr>\n",
       "      <th>2</th>\n",
       "      <td>73075</td>\n",
       "      <td>0</td>\n",
       "      <td>[223.0, 237.0, 172.0, 240.0, 191.0, 137.0]</td>\n",
       "      <td>2705.904134</td>\n",
       "      <td>422952</td>\n",
       "    </tr>\n",
       "    <tr>\n",
       "      <th>3</th>\n",
       "      <td>73075</td>\n",
       "      <td>0</td>\n",
       "      <td>[172.0, 240.0, 135.0, 226.0, 191.0, 137.0]</td>\n",
       "      <td>2088.187248</td>\n",
       "      <td>422953</td>\n",
       "    </tr>\n",
       "    <tr>\n",
       "      <th>4</th>\n",
       "      <td>73075</td>\n",
       "      <td>0</td>\n",
       "      <td>[135.0, 226.0, 109.0, 203.0, 191.0, 137.0]</td>\n",
       "      <td>1834.405884</td>\n",
       "      <td>422954</td>\n",
       "    </tr>\n",
       "  </tbody>\n",
       "</table>\n",
       "</div>"
      ],
      "text/plain": [
       "   image_id  category_id                                        bbox  \\\n",
       "0     73075            0   [191.0, 32.0, 285.0, 184.0, 191.0, 137.0]   \n",
       "1     73075            0  [285.0, 184.0, 223.0, 237.0, 191.0, 137.0]   \n",
       "2     73075            0  [223.0, 237.0, 172.0, 240.0, 191.0, 137.0]   \n",
       "3     73075            0  [172.0, 240.0, 135.0, 226.0, 191.0, 137.0]   \n",
       "4     73075            0  [135.0, 226.0, 109.0, 203.0, 191.0, 137.0]   \n",
       "\n",
       "           area      id  \n",
       "0  11225.039932  422950  \n",
       "1   4399.705457  422951  \n",
       "2   2705.904134  422952  \n",
       "3   2088.187248  422953  \n",
       "4   1834.405884  422954  "
      ]
     },
     "execution_count": 4,
     "metadata": {},
     "output_type": "execute_result"
    }
   ],
   "source": [
    "df_anno = pd.DataFrame(test_json['annotations'])\n",
    "df_anno.head()"
   ]
  },
  {
   "cell_type": "code",
   "execution_count": 5,
   "metadata": {},
   "outputs": [
    {
     "data": {
      "text/html": [
       "<div>\n",
       "<style scoped>\n",
       "    .dataframe tbody tr th:only-of-type {\n",
       "        vertical-align: middle;\n",
       "    }\n",
       "\n",
       "    .dataframe tbody tr th {\n",
       "        vertical-align: top;\n",
       "    }\n",
       "\n",
       "    .dataframe thead th {\n",
       "        text-align: right;\n",
       "    }\n",
       "</style>\n",
       "<table border=\"1\" class=\"dataframe\">\n",
       "  <thead>\n",
       "    <tr style=\"text-align: right;\">\n",
       "      <th></th>\n",
       "      <th>supercategory</th>\n",
       "      <th>id</th>\n",
       "      <th>name</th>\n",
       "    </tr>\n",
       "  </thead>\n",
       "  <tbody>\n",
       "    <tr>\n",
       "      <th>0</th>\n",
       "      <td>Series</td>\n",
       "      <td>0</td>\n",
       "      <td>Series</td>\n",
       "    </tr>\n",
       "  </tbody>\n",
       "</table>\n",
       "</div>"
      ],
      "text/plain": [
       "  supercategory  id    name\n",
       "0        Series   0  Series"
      ]
     },
     "execution_count": 5,
     "metadata": {},
     "output_type": "execute_result"
    }
   ],
   "source": [
    "df_cate = pd.DataFrame(test_json['categories'])\n",
    "df_cate"
   ]
  },
  {
   "cell_type": "code",
   "execution_count": 6,
   "metadata": {},
   "outputs": [],
   "source": [
    "def plot_pie_and_box(image, annotations):\n",
    "    \n",
    "    fig, ax = plt.subplots(1,1,figsize=(10,10))\n",
    "    ax.imshow(image)\n",
    "    ax.axis(\"off\")\n",
    "    print(\"number_of_annotatino\", len(annotations))\n",
    "    for key_points in annotations:\n",
    "        x1,y1, x2,y2, x3,y3 = key_points\n",
    "        \n",
    "        # line\n",
    "        ax.plot([x1,x2],[y1,y2],'-r')\n",
    "        ax.plot([x2,x3],[y2,y3],'-r')\n",
    "        ax.plot([x3,x1],[y3,y1],'-r')\n",
    "        \n",
    "        # scatter\n",
    "        ax.plot(x1,y1,'or',markersize=10)\n",
    "        ax.plot(x2,y2,'or',markersize=10)\n",
    "        \n",
    "        # center_point\n",
    "        ax.plot(x3,y3,'*b',markersize=20)\n",
    "    \n",
    "    plt.show()"
   ]
  },
  {
   "cell_type": "code",
   "execution_count": 9,
   "metadata": {},
   "outputs": [
    {
     "name": "stdout",
     "output_type": "stream",
     "text": [
      "number_of_annotatino 4\n"
     ]
    },
    {
     "data": {
      "image/png": "[encoded data removed]",
      "text/plain": [
       "<Figure size 720x720 with 1 Axes>"
      ]
     },
     "metadata": {
      "needs_background": "light"
     },
     "output_type": "display_data"
    },
    {
     "name": "stdout",
     "output_type": "stream",
     "text": [
      "True\n",
      "number_of_annotatino 4\n"
     ]
    },
    {
     "data": {
      "image/png": "[encoded data removed]",
      "text/plain": [
       "<Figure size 720x720 with 1 Axes>"
      ]
     },
     "metadata": {
      "needs_background": "light"
     },
     "output_type": "display_data"
    }
   ],
   "source": [
    "idx = 7\n",
    "image_root = f\"/home/davi/workspace/data/piedata(1008)/pie/images/{dataset}2019/\"\n",
    "image_path = image_root + df_images.iloc[idx][\"file_name\"]\n",
    "\n",
    "image_id = df_images.iloc[idx][\"id\"]\n",
    "annotations = df_anno[df_anno[\"image_id\"] == image_id]\n",
    "\n",
    "# image = cv2.imread(image_path, cv2.IMREAD_COLOR)\n",
    "# image = cv2.cvtColor(image, cv2.COLOR_BGR2RGB)\n",
    "PIL_image = PIL.Image.open(image_path)\n",
    "image = np.array(PIL_image)/255.\n",
    "PIL_image.close()\n",
    "plot_pie_and_box(image, annotations[\"bbox\"])\n",
    "\n",
    "# Pad to make square\n",
    "H, W, C = image.shape\n",
    "if H != W:\n",
    "    long, short = max(H, W), min(H, W)\n",
    "    pad_size, is_odd = divmod(long-short, 2)\n",
    "\n",
    "    # v_pad\n",
    "    if long == W:\n",
    "        up_pad = np.zeros([pad_size, W, C])\n",
    "        down_pad = np.zeros([pad_size + is_odd, W, C])\n",
    "        image = np.concatenate(\n",
    "            (up_pad, image, down_pad), axis = 0\n",
    "        )\n",
    "        shifted_kp = []\n",
    "        for key_points in annotations[\"bbox\"]:\n",
    "            x1,y1, x2,y2, x3,y3 = key_points\n",
    "            shifted_kp.append([\n",
    "                x1, y1+pad_size,\n",
    "                x2, y2+pad_size,\n",
    "                x3, y3+pad_size\n",
    "            ])\n",
    "\n",
    "    # h_pad\n",
    "    elif long == H:\n",
    "        left_pad = np.zeros([H, pad_size, C])\n",
    "        right_pad = np.zeros([H, pad_size + is_odd, C])\n",
    "        image = np.concatenate(\n",
    "            (left_pad, image, right_pad), axis = 1\n",
    "        )\n",
    "        shifted_kp = []\n",
    "        for key_points in annotations[\"bbox\"]:\n",
    "            x1,y1, x2,y2, x3,y3 = key_points\n",
    "            shifted_kp.append([\n",
    "                x1+pad_size, y1,\n",
    "                x2+pad_size, y2,\n",
    "                x3+pad_size, y3\n",
    "            ])\n",
    "\n",
    "        \n",
    "print(image.shape[0] == image.shape[1])\n",
    "plot_pie_and_box(image, shifted_kp)"
   ]
  },
  {
   "cell_type": "code",
   "execution_count": null,
   "metadata": {},
   "outputs": [],
   "source": []
  }
 ],
 "metadata": {
  "interpreter": {
   "hash": "c897b12af8fd05d288052045b5d2327c42aedc5a17dbe3a905a013465764ed6e"
  },
  "kernelspec": {
   "display_name": "Python 3.9.7 64-bit ('base': conda)",
   "language": "python",
   "name": "python3"
  },
  "language_info": {
   "codemirror_mode": {
    "name": "ipython",
    "version": 3
   },
   "file_extension": ".py",
   "mimetype": "text/x-python",
   "name": "python",
   "nbconvert_exporter": "python",
   "pygments_lexer": "ipython3",
   "version": "3.10.0"
  },
  "orig_nbformat": 4
 },
 "nbformat": 4,
 "nbformat_minor": 2
}
