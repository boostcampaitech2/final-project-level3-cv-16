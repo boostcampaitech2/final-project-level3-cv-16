{
 "cells": [
  {
   "cell_type": "code",
   "execution_count": 76,
   "metadata": {},
   "outputs": [],
   "source": [
    "from easyocr import Reader\n",
    "import matplotlib.pyplot as plt\n",
    "import cv2"
   ]
  },
  {
   "cell_type": "code",
   "execution_count": 82,
   "metadata": {},
   "outputs": [],
   "source": [
    "langs = ['en']\n",
    "image = cv2.imread('/opt/ml/final/data/piedata(1008)/pie/images/test2019/fa09f947f3f05266b4e6fb68aa6030e1_dml0ZWp0ZW5hemVtaS5jegkxOTMuMTc5LjE4Ni4z.xls-1-0.png')\n",
    "reader = Reader(langs)\n",
    "results = reader.readtext(image)"
   ]
  },
  {
   "cell_type": "code",
   "execution_count": 83,
   "metadata": {},
   "outputs": [
    {
     "data": {
      "text/plain": [
       "[([[383, 15], [453, 15], [453, 29], [383, 29]],\n",
       "  'Zemedelstvi',\n",
       "  0.6854997222740552),\n",
       " ([[461, 17], [511, 17], [511, 29], [461, 29]],\n",
       "  'lesnictvi',\n",
       "  0.9707842035215831),\n",
       " ([[259, 141], [329, 141], [329, 155], [259, 155]],\n",
       "  'Domacnosti',\n",
       "  0.9867862970676711),\n",
       " ([[281, 159], [309, 159], [309, 173], [281, 173]],\n",
       "  '26%6',\n",
       "  0.47483134269714355),\n",
       " ([[578, 223], [625, 223], [625, 242], [578, 242]],\n",
       "  'Primysl',\n",
       "  0.9022167228637302),\n",
       " ([[589, 243], [617, 243], [617, 257], [589, 257]],\n",
       "  '3626',\n",
       "  0.3126196152879973),\n",
       " ([[219, 343], [305, 343], [305, 357], [219, 357]],\n",
       "  'Ostatni odvetvi',\n",
       "  0.9447174324280723),\n",
       " ([[249, 361], [275, 361], [275, 373], [249, 373]],\n",
       "  '12%6',\n",
       "  0.4990238239337026),\n",
       " ([[383, 475], [433, 475], [433, 489], [383, 489]],\n",
       "  'Doprava',\n",
       "  0.9994967188530312),\n",
       " ([[571, 479], [641, 479], [641, 493], [571, 493]],\n",
       "  'Stavebnictvi',\n",
       "  0.8038132402070861),\n",
       " ([[395, 491], [421, 491], [421, 505], [395, 505]],\n",
       "  '23%6',\n",
       "  0.6392426517520986)]"
      ]
     },
     "execution_count": 83,
     "metadata": {},
     "output_type": "execute_result"
    }
   ],
   "source": [
    "results"
   ]
  },
  {
   "cell_type": "code",
   "execution_count": 111,
   "metadata": {},
   "outputs": [],
   "source": [
    "import math\n",
    "\n",
    "def get_distance(x1, y1, x2, y2):\n",
    "    return ((((x2 - x1 )**2) + ((y2-y1)**2) )**0.5)\n",
    "\n",
    "def get_arc_center(points):\n",
    "    x_center, y_center, x_left, y_left, x_right, y_right = points\n",
    "    assert abs(get_distance(x_left,y_left, x_center, y_center) - get_distance(x_right, y_right, x_center, y_center)) < 5\n",
    "\n",
    "    radius = get_distance(x_left,y_left, x_center, y_center)\n",
    "    norm_x_left, norm_x_right = (x_left - x_center)/radius, (x_right - x_center)/radius\n",
    "\n",
    "    # y가 역방향임\n",
    "    norm_y_left, norm_y_right = (y_center - y_left)/radius, (y_center - y_right)/radius\n",
    "\n",
    "    angle = math.atan2((norm_y_left + norm_y_right)/2, (norm_x_left + norm_x_right)/2)\n",
    "    coord = (math.cos(angle)*radius + x_center, -math.sin(angle)*radius + y_center)\n",
    "\n",
    "    # print((norm_y1 + norm_y2)/2, (norm_x1 + norm_x2)/2)\n",
    "    # print(angle)\n",
    "    return list(map(int, coord))"
   ]
  },
  {
   "cell_type": "code",
   "execution_count": 113,
   "metadata": {},
   "outputs": [
    {
     "data": {
      "text/plain": [
       "<matplotlib.image.AxesImage at 0x7f442414fa60>"
      ]
     },
     "execution_count": 113,
     "metadata": {},
     "output_type": "execute_result"
    },
    {
     "data": {
      "image/png": "[encoded data removed]",
      "text/plain": [
       "<Figure size 432x288 with 1 Axes>"
      ]
     },
     "metadata": {
      "needs_background": "light"
     },
     "output_type": "display_data"
    }
   ],
   "source": [
    "keypoint = [\n",
    "                    [417,\n",
    "                289,\n",
    "                418,\n",
    "                59,\n",
    "                448,\n",
    "                61,\n",
    "                ],\n",
    "                    [\n",
    "                        417,\n",
    "                289,\n",
    "                448,\n",
    "                61,\n",
    "                568,\n",
    "                463,\n",
    "                ],\n",
    "                    [\n",
    "                417,\n",
    "                289,\n",
    "                568,\n",
    "                463,\n",
    "                560,\n",
    "                470,\n",
    "                ],\n",
    "                    [\n",
    "                417,\n",
    "                289,\n",
    "                560,\n",
    "                470,\n",
    "                254,\n",
    "                450\n",
    "                ],\n",
    "                [\n",
    "                    417,\n",
    "                289,\n",
    "\n",
    "                254,\n",
    "                450,\n",
    "                188,\n",
    "                299,\n",
    "                \n",
    "            ],\n",
    "            [\n",
    "                417,\n",
    "                289,\n",
    "                188,\n",
    "                299,\n",
    "                418,\n",
    "                59,\n",
    "            ],\n",
    "]\n",
    "for pt in keypoint:\n",
    "    COA = get_arc_center(pt)\n",
    "    image = cv2.cvtColor(image, cv2.COLOR_BGR2RGB)\n",
    "    image = cv2.circle(image, COA, radius=5, color=(255, 0, 0), thickness=1)\n",
    "\n",
    "plt.imshow(image)"
   ]
  },
  {
   "cell_type": "code",
   "execution_count": 110,
   "metadata": {},
   "outputs": [
    {
     "name": "stdout",
     "output_type": "stream",
     "text": [
      "[[36.74914965002592, 'Primysl', 1], [37.33630940518894, 'Doprava', 3], [62.64982043070834, 'Ostatni odvetvi', 4], [39.92492955535426, 'Zemedelstvi', 0], [46.09772228646444, 'Domacnosti', 5], [165.05150711217394, 'Domacnosti', 0], [64.07027391856539, 'lesnictvi', 0], [155.82361823549087, 'Doprava', 2], [47.4236228055175, 'Stavebnictvi', 2], [205.6647757881743, 'Stavebnictvi', 3], [348.546266656236, 'Primysl', 3], [337.5233325268047, 'Ostatni odvetvi', 0], [256.8890811225732, 'lesnictvi', 5], [197.4968354176846, 'Zemedelstvi', 5], [221.22612865572637, 'Ostatni odvetvi', 5], [297.2574641619618, 'Zemedelstvi', 1], [225.39964507514205, 'Doprava', 4], [385.9339321697433, 'Doprava', 5], [247.7761086142084, 'Domacnosti', 4], [236.65269911834937, 'Primysl', 2], [415.5538472929832, 'Zemedelstvi', 4], [453.0893951528771, 'lesnictvi', 4], [421.17276740074254, 'Primysl', 4], [467.07708143303284, 'Zemedelstvi', 2], [364.503086406686, 'Primysl', 5], [395.9217094325594, 'Ostatni odvetvi', 1], [322.57867257461396, 'Ostatni odvetvi', 2], [351.10397320451955, 'Domacnosti', 1], [220.0954338463204, 'Ostatni odvetvi', 3], [416.51530584121394, 'Domacnosti', 2], [423.7381266773147, 'Doprava', 0], [497.22630662506185, 'Zemedelstvi', 3], [345.71953951143695, 'Doprava', 1], [386.6807468700763, 'Domacnosti', 3], [241.85636233103318, 'Primysl', 0], [449.64207988132074, 'lesnictvi', 2], [460.714662236834, 'Stavebnictvi', 0], [264.82069405543064, 'Stavebnictvi', 1], [250.60127693210185, 'lesnictvi', 1], [502.8966096525209, 'lesnictvi', 3], [412.8401627748928, 'Stavebnictvi', 4], [502.7573967630909, 'Stavebnictvi', 5]]\n"
     ]
    },
    {
     "data": {
      "text/html": [
       "<div>\n",
       "<style scoped>\n",
       "    .dataframe tbody tr th:only-of-type {\n",
       "        vertical-align: middle;\n",
       "    }\n",
       "\n",
       "    .dataframe tbody tr th {\n",
       "        vertical-align: top;\n",
       "    }\n",
       "\n",
       "    .dataframe thead th {\n",
       "        text-align: right;\n",
       "    }\n",
       "</style>\n",
       "<table border=\"1\" class=\"dataframe\">\n",
       "  <thead>\n",
       "    <tr style=\"text-align: right;\">\n",
       "      <th></th>\n",
       "      <th>0</th>\n",
       "    </tr>\n",
       "  </thead>\n",
       "  <tbody>\n",
       "    <tr>\n",
       "      <th>Zemedelstvi</th>\n",
       "      <td>2%</td>\n",
       "    </tr>\n",
       "    <tr>\n",
       "      <th>Primysl</th>\n",
       "      <td>36%</td>\n",
       "    </tr>\n",
       "    <tr>\n",
       "      <th>Stavebnictvi</th>\n",
       "      <td>1%</td>\n",
       "    </tr>\n",
       "    <tr>\n",
       "      <th>Doprava</th>\n",
       "      <td>23%</td>\n",
       "    </tr>\n",
       "    <tr>\n",
       "      <th>Ostatni odvetvi</th>\n",
       "      <td>12%</td>\n",
       "    </tr>\n",
       "    <tr>\n",
       "      <th>Domacnosti</th>\n",
       "      <td>26%</td>\n",
       "    </tr>\n",
       "  </tbody>\n",
       "</table>\n",
       "</div>"
      ],
      "text/plain": [
       "                   0\n",
       "Zemedelstvi       2%\n",
       "Primysl          36%\n",
       "Stavebnictvi      1%\n",
       "Doprava          23%\n",
       "Ostatni odvetvi  12%\n",
       "Domacnosti       26%"
      ]
     },
     "execution_count": 110,
     "metadata": {},
     "output_type": "execute_result"
    }
   ],
   "source": [
    "import heapq\n",
    "import numpy as np\n",
    "import pandas as pd\n",
    "\n",
    "\n",
    "def integrate(boxes):\n",
    "    \"\"\"\n",
    "    박스 가까운 애들끼리 합치기\n",
    "    \"\"\"\n",
    "    return boxes\n",
    "\n",
    "def get_center(boxes):\n",
    "    boxes = np.array(boxes)\n",
    "    return boxes.mean(axis=0).tolist()\n",
    "\n",
    "def match(ocr, keypoint, portion, threshold):\n",
    "    labels = []\n",
    "    for text in ocr:\n",
    "        if '%' in text[1]:\n",
    "            continue\n",
    "        if text[2] < threshold:\n",
    "            continue\n",
    "\n",
    "        labels.append([get_center(text[0]), text[1]])\n",
    "\n",
    "    ## Check\n",
    "    # assert len(keypoint) == len(portion)\n",
    "\n",
    "    pq = []\n",
    "    for label in labels:\n",
    "        for point_num, points in enumerate(keypoint):\n",
    "            COA = get_arc_center(points)\n",
    "            dist = get_distance(label[0][0], label[0][1], COA[0], COA[1])\n",
    "            heapq.heappush(pq, [dist, label[1], point_num])\n",
    "\n",
    "    legend = [None for i in range(len(portion))]\n",
    "\n",
    "    print(pq)\n",
    "    while pq:\n",
    "        cur = heapq.heappop(pq)\n",
    "        if legend[cur[2]] is not None:\n",
    "            continue\n",
    "        legend[cur[2]] = cur[1]\n",
    "    \n",
    "    return pd.DataFrame(portion, legend)\n",
    "\n",
    "\n",
    "    # print(labels)\n",
    "        \n",
    "\n",
    "match(results, keypoint, portion=['2%', '36%', '1%', '23%', '12%', '26%'], threshold=0.5)\n",
    "    "
   ]
  },
  {
   "cell_type": "markdown",
   "metadata": {},
   "source": [
    "OCR 수행해서 범례 리스트를 먼저 뽑는다\n",
    "- 제목은 어떻게 잘라야 할 지 모르겠음\n",
    "- %가 포함된 string은 drop\n",
    "- 이외의 string 들은 라벨로 치되, 가까운 애들끼리 묶어서 라벨 처리\n",
    "\n",
    "- 이후 두가지로 나누기\n",
    "    1. 범례가 옆에 상자형으로 있는 경우\n",
    "        - 정렬된 포인트 찾기 (아직 미정)\n",
    "        - 여기서부터 \n",
    "    2. 파이 그래프 위에 존재하는 경우\n",
    "        - arc 중점과 가장 가까운 라벨 포인트끼리 연결\n",
    "        - 우선순위 큐 사용"
   ]
  },
  {
   "cell_type": "code",
   "execution_count": null,
   "metadata": {},
   "outputs": [],
   "source": []
  }
 ],
 "metadata": {
  "interpreter": {
   "hash": "981f108a204f421f158e0977940335d851edffa6dd3586828a3e1aec045160e4"
  },
  "kernelspec": {
   "display_name": "Python 3.8.12 64-bit ('final': conda)",
   "language": "python",
   "name": "python3"
  },
  "language_info": {
   "codemirror_mode": {
    "name": "ipython",
    "version": 3
   },
   "file_extension": ".py",
   "mimetype": "text/x-python",
   "name": "python",
   "nbconvert_exporter": "python",
   "pygments_lexer": "ipython3",
   "version": "3.8.12"
  },
  "orig_nbformat": 4
 },
 "nbformat": 4,
 "nbformat_minor": 2
}
