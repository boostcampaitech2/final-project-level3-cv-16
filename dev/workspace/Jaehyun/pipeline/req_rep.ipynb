{
 "cells": [
  {
   "cell_type": "code",
   "execution_count": 1,
   "id": "14e3a5d2-a7fa-48af-b7a0-296c937db8ca",
   "metadata": {},
   "outputs": [],
   "source": [
    "import torch\n",
    "import mlflow\n",
    "import base64\n",
    "from PIL import Image\n",
    "import numpy as np\n",
    "import requests\n",
    "import json\n",
    "import cv2\n",
    "from easyocr import Reader\n",
    "\n",
    "from utils import dgr2pct, match"
   ]
  },
  {
   "cell_type": "code",
   "execution_count": 2,
   "id": "81a00001-4656-4b5e-85c6-4d618ebf092f",
   "metadata": {},
   "outputs": [],
   "source": [
    "image_path = \"/opt/ml/final/data/piedata(1008)/pie/images/test2019/fa09f947f3f05266b4e6fb68aa6030e1_dml0ZWp0ZW5hemVtaS5jegkxOTMuMTc5LjE4Ni4z.xls-1-0.png\"\n",
    "img = Image.open(image_path).convert(\"RGB\")\n",
    "img = np.array(img)\n",
    "size = img.shape\n",
    "\n",
    "img_cv = cv2.imread(image_path)\n",
    "reader = Reader(['en'])"
   ]
  },
  {
   "cell_type": "code",
   "execution_count": 3,
   "id": "1923bae8-ab23-4e13-89ef-667b0b30e79e",
   "metadata": {},
   "outputs": [],
   "source": [
    "# url = 'http://localhost:6006/items/'\n",
    "url = 'http://49.50.175.108:6010/items/'\n",
    "req = {\n",
    "    \"instances\" : img.tolist() # [H, W, C]\n",
    "}\n",
    "\n",
    "response = requests.post(\n",
    "    url=url,\n",
    "    data=json.dumps(req)\n",
    ")\n",
    "results = reader.readtext(img_cv)"
   ]
  },
  {
   "cell_type": "code",
   "execution_count": 4,
   "id": "9319d2c4-d987-4e59-9941-95b44da00ae7",
   "metadata": {},
   "outputs": [],
   "source": [
    "res_eval = eval(response.text)\n",
    "portion = list(map(dgr2pct, res_eval['dgr']))\n",
    "keypoint = [[x_center, y_center, x_left, y_left, x_right, y_right] \\\n",
    "    for [[x_center, y_center], [x_left, y_left], [x_right, y_right], _] in res_eval['grp']]"
   ]
  },
  {
   "cell_type": "code",
   "execution_count": 5,
   "id": "7bfdd056",
   "metadata": {},
   "outputs": [
    {
     "data": {
      "text/html": [
       "<div>\n",
       "<style scoped>\n",
       "    .dataframe tbody tr th:only-of-type {\n",
       "        vertical-align: middle;\n",
       "    }\n",
       "\n",
       "    .dataframe tbody tr th {\n",
       "        vertical-align: top;\n",
       "    }\n",
       "\n",
       "    .dataframe thead th {\n",
       "        text-align: right;\n",
       "    }\n",
       "</style>\n",
       "<table border=\"1\" class=\"dataframe\">\n",
       "  <thead>\n",
       "    <tr style=\"text-align: right;\">\n",
       "      <th></th>\n",
       "      <th>0</th>\n",
       "    </tr>\n",
       "  </thead>\n",
       "  <tbody>\n",
       "    <tr>\n",
       "      <th>Ostatni odvetvi</th>\n",
       "      <td>2.1</td>\n",
       "    </tr>\n",
       "    <tr>\n",
       "      <th>Doprava</th>\n",
       "      <td>36.6</td>\n",
       "    </tr>\n",
       "    <tr>\n",
       "      <th>Stavebnictvi</th>\n",
       "      <td>0.8</td>\n",
       "    </tr>\n",
       "    <tr>\n",
       "      <th>Primysl</th>\n",
       "      <td>23.2</td>\n",
       "    </tr>\n",
       "    <tr>\n",
       "      <th>Zemedelstvi</th>\n",
       "      <td>11.7</td>\n",
       "    </tr>\n",
       "    <tr>\n",
       "      <th>Domacnosti</th>\n",
       "      <td>25.8</td>\n",
       "    </tr>\n",
       "  </tbody>\n",
       "</table>\n",
       "</div>"
      ],
      "text/plain": [
       "                    0\n",
       "Ostatni odvetvi   2.1\n",
       "Doprava          36.6\n",
       "Stavebnictvi      0.8\n",
       "Primysl          23.2\n",
       "Zemedelstvi      11.7\n",
       "Domacnosti       25.8"
      ]
     },
     "execution_count": 5,
     "metadata": {},
     "output_type": "execute_result"
    }
   ],
   "source": [
    "match(results, keypoint, portion, threshold=0.5)"
   ]
  },
  {
   "cell_type": "code",
   "execution_count": 37,
   "id": "18f643a2-05f7-4579-8cbb-40e26d9253cc",
   "metadata": {},
   "outputs": [
    {
     "name": "stdout",
     "output_type": "stream",
     "text": [
      "==================================================\n",
      "x : 202.39407348632812, y : 115.20999145507812\n",
      "x : 126.49090576171875, y : 95.67401885986328\n",
      "x : 202.7940216064453, y : 37.22562789916992\n",
      "==================================================\n",
      "x : 202.39407348632812, y : 115.20999145507812\n",
      "x : 202.7940216064453, y : 37.22562789916992\n",
      "x : 126.49090576171875, y : 95.67401885986328\n"
     ]
    }
   ],
   "source": [
    "for g in res_eval[\"grp\"]:\n",
    "    print(\"=\"*50)\n",
    "    for x, y in g[:-1]:\n",
    "        print(f\"x : {x}, y : {y}\")"
   ]
  },
  {
   "cell_type": "code",
   "execution_count": null,
   "id": "7dc8487a-f96e-4d81-ae42-96942e2a5a82",
   "metadata": {},
   "outputs": [],
   "source": []
  }
 ],
 "metadata": {
  "kernelspec": {
   "display_name": "Python 3 (ipykernel)",
   "language": "python",
   "name": "python3"
  },
  "language_info": {
   "codemirror_mode": {
    "name": "ipython",
    "version": 3
   },
   "file_extension": ".py",
   "mimetype": "text/x-python",
   "name": "python",
   "nbconvert_exporter": "python",
   "pygments_lexer": "ipython3",
   "version": "3.8.12"
  }
 },
 "nbformat": 4,
 "nbformat_minor": 5
}
