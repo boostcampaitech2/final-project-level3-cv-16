{
 "cells": [
  {
   "cell_type": "code",
   "execution_count": 2,
   "id": "e658b8d7-aff0-4a70-83ef-faf53f0f2566",
   "metadata": {},
   "outputs": [],
   "source": [
    "import cv2\n",
    "import json\n",
    "import math\n",
    "import importlib\n",
    "import os\n",
    "\n",
    "from PIL import Image, ImageDraw\n",
    "from tqdm import tqdm\n",
    "import torch\n",
    "import matplotlib.pyplot as plt\n",
    "\n",
    "from config import system_configs\n",
    "from db.datasets import datasets\n",
    "from nnet.py_factory import NetworkFactory\n",
    "from RuleGroup.Pie import GroupPie\n",
    "torch.backends.cudnn.benchmark = False"
   ]
  },
  {
   "cell_type": "code",
   "execution_count": 3,
   "id": "561ea5fe",
   "metadata": {},
   "outputs": [],
   "source": [
    "def make_dirs(directories):\n",
    "    for directory in directories:\n",
    "        if not os.path.exists(directory):\n",
    "            os.makedirs(directory)\n",
    "\n",
    "def load_net(testiter, cfg_name, data_dir, cache_dir, cuda_id=0):\n",
    "    cfg_file = os.path.join(system_configs.config_dir, cfg_name + \".json\")\n",
    "    with open(cfg_file, \"r\") as f:\n",
    "        configs = json.load(f)\n",
    "    configs[\"system\"][\"snapshot_name\"] = cfg_name\n",
    "    configs[\"system\"][\"data_dir\"] = data_dir\n",
    "    configs[\"system\"][\"cache_dir\"] = cache_dir\n",
    "    configs[\"system\"][\"result_dir\"] = 'result_dir'\n",
    "    configs[\"system\"][\"tar_data_dir\"] = \"Cls\"\n",
    "    system_configs.update_config(configs[\"system\"])\n",
    "\n",
    "    train_split = system_configs.train_split\n",
    "    val_split = system_configs.val_split\n",
    "    test_split = system_configs.test_split\n",
    "\n",
    "    split = {\n",
    "        \"training\": train_split,\n",
    "        \"validation\": val_split,\n",
    "        \"testing\": test_split\n",
    "    }[\"testing\"]\n",
    "\n",
    "\n",
    "    test_iter = system_configs.max_iter if testiter is None else testiter\n",
    "    print(\"loading parameters at iteration: {}\".format(test_iter))\n",
    "    dataset = system_configs.dataset\n",
    "    db = datasets[dataset](configs[\"db\"], split)\n",
    "    print(\"building neural network...\")\n",
    "    nnet = NetworkFactory(db)\n",
    "    print(\"loading parameters...\")\n",
    "    nnet.load_params(test_iter)\n",
    "    if torch.cuda.is_available():\n",
    "        nnet.cuda(cuda_id)\n",
    "    nnet.eval_mode()\n",
    "    return db, nnet\n",
    "\n",
    "def Pre_load_nets(type, id_cuda, data_dir, cache_dir):\n",
    "    methods = {}\n",
    "    if type == \"Pie\":\n",
    "        db_pie, nnet_pie = load_net(50000, \"CornerNetPurePie\", data_dir, cache_dir,\n",
    "                                    id_cuda)\n",
    "        path = 'testfile.test_%s' % \"CornerNetPurePie\"\n",
    "        testing_pie = importlib.import_module(path).testing\n",
    "        methods['Pie'] = [db_pie, nnet_pie, testing_pie]\n",
    "    return methods"
   ]
  },
  {
   "cell_type": "code",
   "execution_count": 4,
   "id": "9813af3c",
   "metadata": {},
   "outputs": [],
   "source": [
    "def test(image_path, data_type):\n",
    "    image = Image.fromarray(cv2.imread(image_path))\n",
    "    with torch.no_grad():\n",
    "        if data_type == 'Pie':\n",
    "            results = methods['Pie'][2](image, methods['Pie'][0], methods['Pie'][1], debug=False)\n",
    "            cens = results[0]\n",
    "            keys = results[1]\n",
    "            data = GroupPie(image, cens, keys)\n",
    "            return data"
   ]
  },
  {
   "cell_type": "code",
   "execution_count": 5,
   "id": "cd9a754f",
   "metadata": {},
   "outputs": [
    {
     "name": "stdout",
     "output_type": "stream",
     "text": [
      "loading parameters at iteration: 50000\n",
      "loading from cache file: /opt/ml/DeepRule/data/piedata/cache/pie_test2019.pkl\n",
      "loading annotations into memory...\n",
      "/opt/ml/DeepRule/data/piedata/pie/annotations/instancesPie(1008)_test2019.json\n",
      "Done (t=0.08s)\n",
      "creating index...\n",
      "index created!\n",
      "building neural network...\n",
      "module_file: models.CornerNetPurePie\n"
     ]
    },
    {
     "name": "stderr",
     "output_type": "stream",
     "text": [
      "Failure while loading azureml_run_type_providers. Failed to load entrypoint automl = azureml.train.automl.run:AutoMLRun._from_run_dto with exception (numpy 1.14.3 (/opt/conda/envs/DeepRule/lib/python3.6/site-packages), Requirement.parse('numpy>=1.16.6'), {'pyarrow'}).\n"
     ]
    },
    {
     "name": "stdout",
     "output_type": "stream",
     "text": [
      "use kp pure pie\n",
      "total parameters: 198592652\n",
      "loading parameters...\n",
      "loading model from /opt/ml/DeepRule/data/piedata/cache/nnet/CornerNetPurePie/CornerNetPurePie_50000.pkl\n"
     ]
    }
   ],
   "source": [
    "methods = Pre_load_nets(\"Pie\", 0, \"/opt/ml/DeepRule/data/piedata/\", \"/opt/ml/DeepRule/data/piedata/cache/\")\n",
    "tar_path = \"/opt/ml/DeepRule/data/piedata/pie/images/test2019\"\n",
    "save_path = \"./test_save.json\"\n",
    "rs_dict = {}\n",
    "images = os.listdir(tar_path)"
   ]
  },
  {
   "cell_type": "code",
   "execution_count": 6,
   "id": "9115d700",
   "metadata": {},
   "outputs": [
    {
     "name": "stderr",
     "output_type": "stream",
     "text": [
      "100%|██████████| 1923/1923 [02:06<00:00, 15.24it/s]\n"
     ]
    }
   ],
   "source": [
    "for image in tqdm(images):\n",
    "    path = os.path.join(tar_path, image)\n",
    "    data = test(path, \"Pie\")\n",
    "    rs_dict[image] = data"
   ]
  },
  {
   "cell_type": "code",
   "execution_count": 7,
   "id": "482708b3",
   "metadata": {},
   "outputs": [],
   "source": [
    "# type_dict = {0:(0,255,0),1:(255,0,0),2:(230,230,0),3:(230,0,233),4:(255,0,255)}\n",
    "# def drawArc(im, group, type):\n",
    "#     draw = ImageDraw.Draw(im)\n",
    "#     xy_list1 = [group[0], group[1]]\n",
    "#     xy_list2 = [group[0], group[2]]\n",
    "#     draw.line(xy_list1, fill=type_dict[type], width=2)\n",
    "#     draw.line(xy_list2, fill=type_dict[type], width=2)\n",
    "#     theta1 = math.degrees(math.acos((group[1][0]-group[0][0])/(math.sqrt(math.pow(group[1][0]-group[0][0], 2) + math.pow(group[1][1]-group[0][1], 2)))))\n",
    "#     if group[1][1]-group[0][1] > 0:\n",
    "#         theta1 = 360-theta1\n",
    "#     theta2 = math.degrees(math.acos((group[2][0] - group[0][0]) / (\n",
    "#         math.sqrt(math.pow(group[2][0] - group[0][0], 2) + math.pow(group[2][1] - group[0][1], 2)))))\n",
    "#     if group[2][1] - group[0][1] > 0:\n",
    "#         theta2 = 360-theta2\n",
    "#     r = math.sqrt(math.pow(group[2][0] - group[0][0], 2) + math.pow(group[2][1] - group[0][1], 2))\n",
    "#     xy = (group[0][0]-r, group[0][1]-r, group[0][0]+r, group[0][1]+r)\n",
    "#     draw.arc(xy, 360-theta2, 360-theta1, fill=type_dict[type])\n",
    "#     return im"
   ]
  },
  {
   "cell_type": "code",
   "execution_count": 8,
   "id": "1e7f6354",
   "metadata": {},
   "outputs": [],
   "source": [
    "# for image_path in images:\n",
    "#     path = os.path.join(tar_path, image_path)\n",
    "#     visual_path = os.path.join(\"/opt/ml/DeepRule/visualization\", image_path)\n",
    "#     image = Image.fromarray(cv2.imread(path))\n",
    "#     data = rs_dict[image_path]\n",
    "#     groups = data[1]\n",
    "#     for idx, group in enumerate(groups):\n",
    "#         image = drawArc(image, group, idx)\n",
    "#         image.save(visual_path)"
   ]
  },
  {
   "cell_type": "code",
   "execution_count": 8,
   "id": "94c68427",
   "metadata": {},
   "outputs": [],
   "source": [
    "with open(\"./test_xdegree_point.json\", \"w\") as f:\n",
    "    json.dump(rs_dict, f)"
   ]
  },
  {
   "cell_type": "code",
   "execution_count": null,
   "id": "933ab574",
   "metadata": {},
   "outputs": [],
   "source": [
    "# import matplotlib.image as mpig\n",
    "# idx = 119\n",
    "# image_path = images[idx]\n",
    "# print(image_path)\n",
    "# pie_degrees = rs_dict[image_path][0]\n",
    "# for deg in pie_degrees:\n",
    "#     print(math.ceil(float(deg)/360*100))\n",
    "#     # print(float(deg)/360*100)\n",
    "# path = os.path.join(tar_path, image_path)\n",
    "# visual_path = os.path.join(\"/opt/ml/DeepRule/test_visualization\", image_path)\n",
    "# first_img = mpig.imread(path)\n",
    "# second_img = mpig.imread(visual_path)\n",
    "\n",
    "# fig = plt.figure(figsize=(50, 100))\n",
    "# rows = 1\n",
    "# cols = 2\n",
    "\n",
    "# ax= fig.add_subplot(rows, cols, 1)\n",
    "# ax.imshow(cv2.cvtColor(first_img, cv2.COLOR_BGR2RGB))\n",
    "# ax.set_title('first image')\n",
    "# ax.axis(\"off\")\n",
    " \n",
    "# ax = fig.add_subplot(rows, cols, 2)\n",
    "# ax.imshow(cv2.cvtColor(second_img, cv2.COLOR_BGR2RGB))\n",
    "# ax.set_title('second image')\n",
    "# ax.axis(\"off\")\n",
    " \n",
    "# plt.show()"
   ]
  },
  {
   "cell_type": "code",
   "execution_count": 7,
   "metadata": {},
   "outputs": [
    {
     "name": "stdout",
     "output_type": "stream",
     "text": [
      "f679e85d8951c6debc4a93030e076da4_d3d3Lm1wc3YuY3oJOTEuMjE0LjE1Ny4yNg==.xls-2-0.png\n",
      "[[12.530271314381796, [(306.0042419433594, 254.3336181640625), (340.7631530761719, 98.34274291992188), (306.09210205078125, 94.6710205078125), 0.9701332052548727]], [52.3980819090373, [(306.0042419433594, 254.3336181640625), (450.4472351074219, 186.85557556152344), (340.7631530761719, 98.34274291992188), 0.9669541915257772]], [140.06149041392254, [(306.0042419433594, 254.3336181640625), (238.207763671875, 399.5821533203125), (450.4472351074219, 186.85557556152344), 0.958872377872467]], [36.22841130188464, [(306.0042419433594, 254.3336181640625), (165.10055541992188, 331.63671875), (238.207763671875, 399.5821533203125), 0.9573017557462057]], [105.70018984351749, [(306.0042419433594, 254.3336181640625), (269.97943115234375, 98.91226196289062), (165.10055541992188, 331.63671875), 0.9637575546900431]], [13.081555217256236, [(306.0042419433594, 254.3336181640625), (306.09210205078125, 94.6710205078125), (269.97943115234375, 98.91226196289062), 0.9685071905454]]]\n"
     ]
    }
   ],
   "source": [
    "idx = 3\n",
    "image_path = images[idx]\n",
    "print(image_path)\n",
    "print(rs_dict[image_path])\n",
    "# pie_degrees = rs_dict[image_path][0]\n",
    "# key_point = rs_dict[image_path][1]\n",
    "# for deg in pie_degrees:\n",
    "#     print(math.ceil(float(deg)/360*100))\n",
    "#     # print(float(deg)/360*100)\n",
    "# for point in key_point:\n",
    "#     print(point)\n",
    "# path = os.path.join(tar_path, image_path)\n",
    "# visual_path = os.path.join(\"/opt/ml/DeepRule/test_visualization\", image_path)\n",
    "# first_img = Image.open(path)\n",
    "# second_img = Image.open(visual_path)\n",
    "\n",
    "# fig, ax = plt.subplots(nrows=1, ncols=2, figsize=(50, 100))\n",
    "\n",
    "# ax[0].imshow(first_img)\n",
    "# ax[0].set_title('first image')\n",
    "# ax[0].axis(\"off\")\n",
    "\n",
    "# ax[1].imshow(second_img)\n",
    "# ax[1].set_title('second image')\n",
    "# ax[1].axis(\"off\")\n",
    " \n",
    "# plt.show()"
   ]
  },
  {
   "cell_type": "code",
   "execution_count": 13,
   "id": "e86ed84d",
   "metadata": {},
   "outputs": [
    {
     "name": "stdout",
     "output_type": "stream",
     "text": [
      "f925113bc8018ab9cc05554c939ae62b_c3RhdGlzdGlrLnRodWVyaW5nZW4uZGUJMTk1LjE5MS4xNS4xNTU=.xls-5-0.png\n"
     ]
    },
    {
     "data": {
      "image/png": "[encoded data removed]",
      "text/plain": [
       "<Figure size 720x720 with 1 Axes>"
      ]
     },
     "metadata": {
      "needs_background": "light"
     },
     "output_type": "display_data"
    }
   ],
   "source": [
    "idx = 12\n",
    "image_path = images[idx]\n",
    "print(image_path)\n",
    "path = os.path.join(tar_path, image_path)\n",
    "img = Image.open(path)\n",
    "\n",
    "data = rs_dict[image_path]\n",
    "fig, ax = plt.subplots(nrows=1, ncols=1, figsize=(10, 10))\n",
    "ax.imshow(img)\n",
    "for deg, point in data:\n",
    "    center_x = point[0][0]\n",
    "    center_y = point[0][1]\n",
    "    left_x = point[2][0]\n",
    "    left_y = point[2][1]\n",
    "    right_x = point[1][0]\n",
    "    right_y = point[1][1]\n",
    "    x = (center_x + left_x + right_x) / 3\n",
    "    y = (center_y + left_y + right_y) / 3\n",
    "    if deg < 180:\n",
    "        ax.text(x, y, \"%d%%\" % math.ceil(float(deg)/360*100))\n",
    "    else:\n",
    "        x = 2*center_x - x\n",
    "        y = 2*center_y - y\n",
    "        ax.text(x, y, \"%d%%\" % math.ceil(float(deg)/360*100))\n",
    "\n",
    "# ax[0].imshow(first_img)\n",
    "# ax[0].set_title('first image')\n",
    "# ax[0].axis(\"off\")\n",
    "\n",
    "# ax[1].imshow(second_img)\n",
    "# ax[1].set_title('second image')\n",
    "# ax[1].axis(\"off\")\n",
    " \n",
    "plt.show()"
   ]
  }
 ],
 "metadata": {
  "kernelspec": {
   "display_name": "Python 3",
   "language": "python",
   "name": "python3"
  },
  "language_info": {
   "codemirror_mode": {
    "name": "ipython",
    "version": 3
   },
   "file_extension": ".py",
   "mimetype": "text/x-python",
   "name": "python",
   "nbconvert_exporter": "python",
   "pygments_lexer": "ipython3",
   "version": "3.6.5"
  }
 },
 "nbformat": 4,
 "nbformat_minor": 5
}
