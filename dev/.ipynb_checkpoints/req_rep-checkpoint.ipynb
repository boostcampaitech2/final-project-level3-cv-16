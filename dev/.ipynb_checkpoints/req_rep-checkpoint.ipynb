{
 "cells": [
  {
   "cell_type": "code",
   "execution_count": 1,
   "id": "14e3a5d2-a7fa-48af-b7a0-296c937db8ca",
   "metadata": {},
   "outputs": [],
   "source": [
    "import torch\n",
    "import mlflow\n",
    "import base64\n",
    "from PIL import Image\n",
    "import numpy as np"
   ]
  },
  {
   "cell_type": "code",
   "execution_count": 2,
   "id": "17e51ba2-2693-49e7-a5a7-d0d6be0cb2d8",
   "metadata": {},
   "outputs": [],
   "source": [
    "local_image = \"/opt/ml/final/final-project-level3-cv-16/dev/workspace/Sanghyun/fastapi/dl_model/data/piedata(1008)/pie/images/test2019/f4a0f74507725f767cfd7769e6df3e53_d3d3LnNhZ2lzLm9yZy56YQkxOTcuMTU3LjI0Mi4xNTA=.xls-2-0.png\"\n"
   ]
  },
  {
   "cell_type": "code",
   "execution_count": 3,
   "id": "81a00001-4656-4b5e-85c6-4d618ebf092f",
   "metadata": {},
   "outputs": [],
   "source": [
    "img = Image.open(local_image).convert(\"RGB\")\n",
    "img = np.array(img)\n",
    "size = img.shape\n",
    "encoded_string = base64.b64encode(img)"
   ]
  },
  {
   "cell_type": "code",
   "execution_count": 4,
   "id": "c7a1141a-4c70-4f21-813d-3e017cf6bc0b",
   "metadata": {},
   "outputs": [
    {
     "name": "stderr",
     "output_type": "stream",
     "text": [
      "/opt/conda/envs/lightweight/lib/python3.7/site-packages/ipykernel_launcher.py:1: DeprecationWarning: The binary mode of fromstring is deprecated, as it behaves surprisingly on unicode inputs. Use frombuffer instead\n",
      "  \"\"\"Entry point for launching an IPython kernel.\n"
     ]
    },
    {
     "data": {
      "text/plain": [
       "(639, 974, 3)"
      ]
     },
     "execution_count": 4,
     "metadata": {},
     "output_type": "execute_result"
    }
   ],
   "source": [
    "re_img = np.fromstring(encoded_string)\n",
    "re_img = np.resize(re_img, size)\n",
    "re_img.shape"
   ]
  },
  {
   "cell_type": "code",
   "execution_count": 5,
   "id": "06a62dc2-5583-4539-a054-440f986d6caa",
   "metadata": {},
   "outputs": [],
   "source": [
    "import requests\n",
    "import json"
   ]
  },
  {
   "cell_type": "code",
   "execution_count": 18,
   "id": "1923bae8-ab23-4e13-89ef-667b0b30e79e",
   "metadata": {},
   "outputs": [],
   "source": [
    "url = 'http://localhost:6006/items/'\n",
    "req = {\n",
    "    \"instances\" : img.tolist()\n",
    "}\n",
    "\n",
    "response = requests.post(\n",
    "    url=url,\n",
    "    data=json.dumps(req)\n",
    ")"
   ]
  },
  {
   "cell_type": "code",
   "execution_count": 19,
   "id": "9319d2c4-d987-4e59-9941-95b44da00ae7",
   "metadata": {},
   "outputs": [
    {
     "data": {
      "text/plain": [
       "'Internal Server Error'"
      ]
     },
     "execution_count": 19,
     "metadata": {},
     "output_type": "execute_result"
    }
   ],
   "source": [
    "response.text"
   ]
  },
  {
   "cell_type": "code",
   "execution_count": 8,
   "id": "356bc992-ce80-468f-aeb2-627b6c3c503c",
   "metadata": {},
   "outputs": [
    {
     "data": {
      "text/plain": [
       "'__main__'"
      ]
     },
     "execution_count": 8,
     "metadata": {},
     "output_type": "execute_result"
    }
   ],
   "source": [
    "__name__"
   ]
  },
  {
   "cell_type": "code",
   "execution_count": null,
   "id": "18f643a2-05f7-4579-8cbb-40e26d9253cc",
   "metadata": {},
   "outputs": [],
   "source": []
  }
 ],
 "metadata": {
  "kernelspec": {
   "display_name": "Python 3 (ipykernel)",
   "language": "python",
   "name": "python3"
  },
  "language_info": {
   "codemirror_mode": {
    "name": "ipython",
    "version": 3
   },
   "file_extension": ".py",
   "mimetype": "text/x-python",
   "name": "python",
   "nbconvert_exporter": "python",
   "pygments_lexer": "ipython3",
   "version": "3.7.11"
  }
 },
 "nbformat": 4,
 "nbformat_minor": 5
}
