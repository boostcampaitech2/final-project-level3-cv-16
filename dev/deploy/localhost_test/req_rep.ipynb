{
 "cells": [
  {
   "cell_type": "code",
   "execution_count": 1,
   "id": "14e3a5d2-a7fa-48af-b7a0-296c937db8ca",
   "metadata": {},
   "outputs": [],
   "source": [
    "from PIL import Image\n",
    "import numpy as np"
   ]
  },
  {
   "cell_type": "code",
   "execution_count": 2,
   "id": "17e51ba2-2693-49e7-a5a7-d0d6be0cb2d8",
   "metadata": {},
   "outputs": [],
   "source": [
    "local_image = \"sample_pie.png\""
   ]
  },
  {
   "cell_type": "code",
   "execution_count": 3,
   "id": "efebb2ad-37f3-443f-9e37-9946fcbe65d6",
   "metadata": {},
   "outputs": [
    {
     "data": {
      "image/png": "[encoded data removed]",
      "text/plain": [
       "<PIL.PngImagePlugin.PngImageFile image mode=RGBA size=417x209 at 0x7F749E662610>"
      ]
     },
     "execution_count": 3,
     "metadata": {},
     "output_type": "execute_result"
    }
   ],
   "source": [
    "Image.open(local_image)"
   ]
  },
  {
   "cell_type": "code",
   "execution_count": 4,
   "id": "81a00001-4656-4b5e-85c6-4d618ebf092f",
   "metadata": {},
   "outputs": [],
   "source": [
    "img = Image.open(local_image).convert(\"RGB\")\n",
    "img = np.array(img)\n",
    "size = img.shape\n",
    "# encoded_string = base64.b64encode(img)"
   ]
  },
  {
   "cell_type": "code",
   "execution_count": 5,
   "id": "c7a1141a-4c70-4f21-813d-3e017cf6bc0b",
   "metadata": {},
   "outputs": [],
   "source": [
    "# re_img = np.fromstring(encoded_string)\n",
    "# re_img = np.resize(re_img, size)\n",
    "# re_img.shape"
   ]
  },
  {
   "cell_type": "code",
   "execution_count": 6,
   "id": "06a62dc2-5583-4539-a054-440f986d6caa",
   "metadata": {},
   "outputs": [],
   "source": [
    "import requests\n",
    "import json"
   ]
  },
  {
   "cell_type": "code",
   "execution_count": 7,
   "id": "1923bae8-ab23-4e13-89ef-667b0b30e79e",
   "metadata": {},
   "outputs": [],
   "source": [
    "url = 'http://49.50.175.108:6010/items/'\n",
    "req = {\n",
    "    \"instances\" : img.tolist() # [H, W, C]\n",
    "}\n",
    "\n",
    "response = requests.post(\n",
    "    url=url,\n",
    "    data=json.dumps(req)\n",
    ")"
   ]
  },
  {
   "cell_type": "code",
   "execution_count": 8,
   "id": "9319d2c4-d987-4e59-9941-95b44da00ae7",
   "metadata": {},
   "outputs": [
    {
     "data": {
      "text/plain": [
       "{'im_shape': [209, 417, 3],\n",
       " 'dgr': [284.13968507075475, 75.86031492924523],\n",
       " 'grp': [[[202.39407348632812, 115.20999145507812],\n",
       "   [126.49090576171875, 95.67401885986328],\n",
       "   [202.7940216064453, 37.22562789916992],\n",
       "   0.7475330432256063],\n",
       "  [[202.39407348632812, 115.20999145507812],\n",
       "   [202.7940216064453, 37.22562789916992],\n",
       "   [126.49090576171875, 95.67401885986328],\n",
       "   0.7475330432256063]]}"
      ]
     },
     "execution_count": 8,
     "metadata": {},
     "output_type": "execute_result"
    }
   ],
   "source": [
    "res_eval = eval(response.text)\n",
    "res_eval"
   ]
  },
  {
   "cell_type": "code",
   "execution_count": 9,
   "id": "e94200dc-730f-4c0e-af9d-bae711526495",
   "metadata": {},
   "outputs": [
    {
     "data": {
      "text/plain": [
       "0.7892769029743187"
      ]
     },
     "execution_count": 9,
     "metadata": {},
     "output_type": "execute_result"
    }
   ],
   "source": [
    "284.13968507075475/360"
   ]
  },
  {
   "cell_type": "code",
   "execution_count": 10,
   "id": "18f643a2-05f7-4579-8cbb-40e26d9253cc",
   "metadata": {},
   "outputs": [
    {
     "name": "stdout",
     "output_type": "stream",
     "text": [
      "==================================================\n",
      "x : 202.39407348632812, y : 115.20999145507812\n",
      "x : 126.49090576171875, y : 95.67401885986328\n",
      "x : 202.7940216064453, y : 37.22562789916992\n",
      "==================================================\n",
      "x : 202.39407348632812, y : 115.20999145507812\n",
      "x : 202.7940216064453, y : 37.22562789916992\n",
      "x : 126.49090576171875, y : 95.67401885986328\n"
     ]
    }
   ],
   "source": [
    "for g in res_eval[\"grp\"]:\n",
    "    print(\"=\"*50)\n",
    "    for x, y in g[:-1]:\n",
    "        print(f\"x : {x}, y : {y}\")"
   ]
  },
  {
   "cell_type": "code",
   "execution_count": 19,
   "id": "7dc8487a-f96e-4d81-ae42-96942e2a5a82",
   "metadata": {},
   "outputs": [
    {
     "name": "stdout",
     "output_type": "stream",
     "text": [
      "<Response [200]>\n",
      "<class 'list'>\n"
     ]
    },
    {
     "data": {
      "text/plain": [
       "<Response [422]>"
      ]
     },
     "execution_count": 19,
     "metadata": {},
     "output_type": "execute_result"
    }
   ],
   "source": [
    "# backend server\n",
    "url = 'http://sanghyun.ddns.net:8880'\n",
    "print(\n",
    "    requests.get(url=url + \"/\")\n",
    ")\n",
    "\n",
    "imag_list = img.tolist()\n",
    "print(type(imag_list))\n",
    "req = {\n",
    "    \"item\" : imag_list # [H, W, C]\n",
    "}\n",
    "response = requests.post(\n",
    "    url=url + \"/items\",\n",
    "    data=json.dumps(req)\n",
    ")\n",
    "response"
   ]
  },
  {
   "cell_type": "code",
   "execution_count": 12,
   "id": "804708e0-5f2f-4c9b-89da-3b8a571fdb6e",
   "metadata": {},
   "outputs": [
    {
     "data": {
      "text/plain": [
       "<Response [422]>"
      ]
     },
     "execution_count": 12,
     "metadata": {},
     "output_type": "execute_result"
    }
   ],
   "source": [
    "response"
   ]
  },
  {
   "cell_type": "code",
   "execution_count": 23,
   "id": "809a8de3-6dc7-42da-be63-734541036433",
   "metadata": {},
   "outputs": [
    {
     "data": {
      "text/plain": [
       "5.918522238731384"
      ]
     },
     "execution_count": 23,
     "metadata": {},
     "output_type": "execute_result"
    }
   ],
   "source": [
    "198592652 * 32 / 1024/ 1024/ 1024"
   ]
  },
  {
   "cell_type": "code",
   "execution_count": null,
   "id": "4ff8fa79-b1c8-4ad3-ae66-1e372c265a6d",
   "metadata": {},
   "outputs": [],
   "source": []
  }
 ],
 "metadata": {
  "kernelspec": {
   "display_name": "Python 3 (ipykernel)",
   "language": "python",
   "name": "python3"
  },
  "language_info": {
   "codemirror_mode": {
    "name": "ipython",
    "version": 3
   },
   "file_extension": ".py",
   "mimetype": "text/x-python",
   "name": "python",
   "nbconvert_exporter": "python",
   "pygments_lexer": "ipython3",
   "version": "3.6.5"
  }
 },
 "nbformat": 4,
 "nbformat_minor": 5
}
