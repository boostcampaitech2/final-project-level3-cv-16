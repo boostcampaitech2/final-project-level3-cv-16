{
 "cells": [
  {
   "cell_type": "code",
   "execution_count": 1,
   "id": "14e3a5d2-a7fa-48af-b7a0-296c937db8ca",
   "metadata": {},
   "outputs": [],
   "source": [
    "from PIL import Image\n",
    "import numpy as np\n",
    "import requests\n",
    "import json\n",
    "import cv2\n",
    "from easyocr import Reader\n",
    "import matplotlib.pyplot as plt\n",
    "import warnings \n",
    "import pandas as pd\n",
    "\n",
    "from utils import predict\n",
    "warnings.filterwarnings('ignore')\n",
    "\n"
   ]
  },
  {
   "cell_type": "code",
   "execution_count": 5,
   "id": "a6e9b245",
   "metadata": {},
   "outputs": [],
   "source": [
    "reader = Reader(['en', 'fr', 'is'], recognizer='Transformer')"
   ]
  },
  {
   "cell_type": "code",
   "execution_count": 6,
   "id": "81a00001-4656-4b5e-85c6-4d618ebf092f",
   "metadata": {},
   "outputs": [],
   "source": [
    "image_path = \"/opt/ml/final/data/piedata/pie/images/test2019/f4a2325eaab09fe54c521a8e237ddd1e_ZWMuZXVyb3BhLmV1CTE0Ny42Ny4xMTkuMTAz.xls-4-0.png\"\n",
    "# image_path = \"/opt/ml/final/data/piedata(1008)/pie/images/test2019/fa248decd453a9e65811e570c9abd4cf_d3d3Lmdsb2JhbC1oZWFsdGgudGNkLmllCTEzNC4yMjYuMTQuMjM0-0-0.png\"\n",
    "img = Image.open(image_path).convert(\"RGB\")\n",
    "img = np.array(img)"
   ]
  },
  {
   "cell_type": "code",
   "execution_count": 7,
   "id": "b792ef53",
   "metadata": {},
   "outputs": [
    {
     "data": {
      "text/html": [
       "<div>\n",
       "<style scoped>\n",
       "    .dataframe tbody tr th:only-of-type {\n",
       "        vertical-align: middle;\n",
       "    }\n",
       "\n",
       "    .dataframe tbody tr th {\n",
       "        vertical-align: top;\n",
       "    }\n",
       "\n",
       "    .dataframe thead th {\n",
       "        text-align: right;\n",
       "    }\n",
       "</style>\n",
       "<table border=\"1\" class=\"dataframe\">\n",
       "  <thead>\n",
       "    <tr style=\"text-align: right;\">\n",
       "      <th></th>\n",
       "      <th>0</th>\n",
       "    </tr>\n",
       "  </thead>\n",
       "  <tbody>\n",
       "    <tr>\n",
       "      <th>Energy excluding</th>\n",
       "      <td>62.1</td>\n",
       "    </tr>\n",
       "    <tr>\n",
       "      <th>Transportincluding</th>\n",
       "      <td>15.0</td>\n",
       "    </tr>\n",
       "    <tr>\n",
       "      <th>Industria orocesses</th>\n",
       "      <td>8.4</td>\n",
       "    </tr>\n",
       "    <tr>\n",
       "      <th>10.8*</th>\n",
       "      <td>10.9</td>\n",
       "    </tr>\n",
       "    <tr>\n",
       "      <th>Yvaste</th>\n",
       "      <td>3.7</td>\n",
       "    </tr>\n",
       "  </tbody>\n",
       "</table>\n",
       "</div>"
      ],
      "text/plain": [
       "                        0\n",
       "Energy excluding     62.1\n",
       "Transportincluding   15.0\n",
       "Industria orocesses   8.4\n",
       "10.8*                10.9\n",
       "Yvaste                3.7"
      ]
     },
     "execution_count": 7,
     "metadata": {},
     "output_type": "execute_result"
    }
   ],
   "source": [
    "predict(reader, img)"
   ]
  },
  {
   "cell_type": "code",
   "execution_count": null,
   "id": "ab93c089",
   "metadata": {},
   "outputs": [],
   "source": [
    "# TODO : 글자 합치기\n",
    "# TODO : 180도 이상 처리 - 하은님 코드 참고\n",
    "# TODO : 파이 못잡았을 때 예외처리 or 아예 처음부터 BFS"
   ]
  },
  {
   "cell_type": "code",
   "execution_count": null,
   "id": "49042d12",
   "metadata": {},
   "outputs": [],
   "source": []
  },
  {
   "cell_type": "code",
   "execution_count": null,
   "id": "4ee35660",
   "metadata": {},
   "outputs": [],
   "source": []
  },
  {
   "cell_type": "code",
   "execution_count": null,
   "id": "f107061d",
   "metadata": {},
   "outputs": [],
   "source": []
  }
 ],
 "metadata": {
  "kernelspec": {
   "display_name": "Python 3 (ipykernel)",
   "language": "python",
   "name": "python3"
  },
  "language_info": {
   "codemirror_mode": {
    "name": "ipython",
    "version": 3
   },
   "file_extension": ".py",
   "mimetype": "text/x-python",
   "name": "python",
   "nbconvert_exporter": "python",
   "pygments_lexer": "ipython3",
   "version": "3.8.12"
  }
 },
 "nbformat": 4,
 "nbformat_minor": 5
}
