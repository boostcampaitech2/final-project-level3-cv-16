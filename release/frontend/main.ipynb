{
 "cells": [
  {
   "cell_type": "code",
   "execution_count": 7,
   "metadata": {},
   "outputs": [],
   "source": [
    "import streamlit as st\n",
    "import requests\n",
    "from PIL import Image\n",
    "import numpy as np\n",
    "import requests\n",
    "import json"
   ]
  },
  {
   "cell_type": "code",
   "execution_count": 8,
   "metadata": {},
   "outputs": [
    {
     "data": {
      "image/png": "[encoded data removed]",
      "text/plain": [
       "<PIL.Image.Image image mode=RGB size=417x209 at 0x7F6F8C30AA00>"
      ]
     },
     "execution_count": 8,
     "metadata": {},
     "output_type": "execute_result"
    }
   ],
   "source": [
    "local_image = \"sample_image.png\"\n",
    "img = Image.open(local_image).convert(\"RGB\")\n",
    "img"
   ]
  },
  {
   "cell_type": "code",
   "execution_count": 9,
   "metadata": {},
   "outputs": [
    {
     "data": {
      "text/plain": [
       "(209, 417, 3)"
      ]
     },
     "execution_count": 9,
     "metadata": {},
     "output_type": "execute_result"
    }
   ],
   "source": [
    "img = np.array(img)\n",
    "size = img.shape\n",
    "size"
   ]
  },
  {
   "cell_type": "code",
   "execution_count": 11,
   "metadata": {},
   "outputs": [
    {
     "data": {
      "text/plain": [
       "<Response [200]>"
      ]
     },
     "execution_count": 11,
     "metadata": {},
     "output_type": "execute_result"
    }
   ],
   "source": [
    "url = 'http://49.50.175.108:6010/items/'\n",
    "req = {\n",
    "    \"instances\" : img.tolist() # [H, W, C]\n",
    "}\n",
    "\n",
    "response = requests.post(\n",
    "    url=url,\n",
    "    data=json.dumps(req)\n",
    ")\n",
    "response"
   ]
  },
  {
   "cell_type": "code",
   "execution_count": 12,
   "metadata": {},
   "outputs": [
    {
     "data": {
      "text/plain": [
       "{'im_shape': [209, 417, 3],\n",
       " 'dgr': [284.13968507075475, 75.86031492924523],\n",
       " 'grp': [[[202.39407348632812, 115.20999145507812],\n",
       "   [126.49090576171875, 95.67401885986328],\n",
       "   [202.7940216064453, 37.22562789916992],\n",
       "   0.7475330432256063],\n",
       "  [[202.39407348632812, 115.20999145507812],\n",
       "   [202.7940216064453, 37.22562789916992],\n",
       "   [126.49090576171875, 95.67401885986328],\n",
       "   0.7475330432256063]]}"
      ]
     },
     "execution_count": 12,
     "metadata": {},
     "output_type": "execute_result"
    }
   ],
   "source": [
    "res_eval = eval(response.text)\n",
    "res_eval"
   ]
  },
  {
   "cell_type": "code",
   "execution_count": null,
   "metadata": {},
   "outputs": [],
   "source": []
  }
 ],
 "metadata": {
  "interpreter": {
   "hash": "0dbd62572487dc69a761d5456dbcb66737da6cd3d50bf8560352c07f2bc4ab6f"
  },
  "kernelspec": {
   "display_name": "Python 3.6.5 64-bit ('DeepRule': conda)",
   "language": "python",
   "name": "python3"
  },
  "language_info": {
   "codemirror_mode": {
    "name": "ipython",
    "version": 3
   },
   "file_extension": ".py",
   "mimetype": "text/x-python",
   "name": "python",
   "nbconvert_exporter": "python",
   "pygments_lexer": "ipython3",
   "version": "3.9.7"
  },
  "orig_nbformat": 4
 },
 "nbformat": 4,
 "nbformat_minor": 2
}
